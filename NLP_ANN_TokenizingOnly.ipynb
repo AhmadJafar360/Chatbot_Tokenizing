{
 "cells": [
  {
   "cell_type": "code",
   "execution_count": null,
   "metadata": {
    "colab": {
     "base_uri": "https://localhost:8080/"
    },
    "id": "KgpT-OZBtcyD",
    "outputId": "dfc7c27c-c521-49ad-abf3-72dfc8623026"
   },
   "outputs": [
    {
     "name": "stdout",
     "output_type": "stream",
     "text": [
      "Requirement already satisfied: tensorflow in /usr/local/lib/python3.10/dist-packages (2.15.0)\n",
      "Requirement already satisfied: absl-py>=1.0.0 in /usr/local/lib/python3.10/dist-packages (from tensorflow) (1.4.0)\n",
      "Requirement already satisfied: astunparse>=1.6.0 in /usr/local/lib/python3.10/dist-packages (from tensorflow) (1.6.3)\n",
      "Requirement already satisfied: flatbuffers>=23.5.26 in /usr/local/lib/python3.10/dist-packages (from tensorflow) (23.5.26)\n",
      "Requirement already satisfied: gast!=0.5.0,!=0.5.1,!=0.5.2,>=0.2.1 in /usr/local/lib/python3.10/dist-packages (from tensorflow) (0.5.4)\n",
      "Requirement already satisfied: google-pasta>=0.1.1 in /usr/local/lib/python3.10/dist-packages (from tensorflow) (0.2.0)\n",
      "Requirement already satisfied: h5py>=2.9.0 in /usr/local/lib/python3.10/dist-packages (from tensorflow) (3.9.0)\n",
      "Requirement already satisfied: libclang>=13.0.0 in /usr/local/lib/python3.10/dist-packages (from tensorflow) (16.0.6)\n",
      "Requirement already satisfied: ml-dtypes~=0.2.0 in /usr/local/lib/python3.10/dist-packages (from tensorflow) (0.2.0)\n",
      "Requirement already satisfied: numpy<2.0.0,>=1.23.5 in /usr/local/lib/python3.10/dist-packages (from tensorflow) (1.25.2)\n",
      "Requirement already satisfied: opt-einsum>=2.3.2 in /usr/local/lib/python3.10/dist-packages (from tensorflow) (3.3.0)\n",
      "Requirement already satisfied: packaging in /usr/local/lib/python3.10/dist-packages (from tensorflow) (23.2)\n",
      "Requirement already satisfied: protobuf!=4.21.0,!=4.21.1,!=4.21.2,!=4.21.3,!=4.21.4,!=4.21.5,<5.0.0dev,>=3.20.3 in /usr/local/lib/python3.10/dist-packages (from tensorflow) (3.20.3)\n",
      "Requirement already satisfied: setuptools in /usr/local/lib/python3.10/dist-packages (from tensorflow) (67.7.2)\n",
      "Requirement already satisfied: six>=1.12.0 in /usr/local/lib/python3.10/dist-packages (from tensorflow) (1.16.0)\n",
      "Requirement already satisfied: termcolor>=1.1.0 in /usr/local/lib/python3.10/dist-packages (from tensorflow) (2.4.0)\n",
      "Requirement already satisfied: typing-extensions>=3.6.6 in /usr/local/lib/python3.10/dist-packages (from tensorflow) (4.10.0)\n",
      "Requirement already satisfied: wrapt<1.15,>=1.11.0 in /usr/local/lib/python3.10/dist-packages (from tensorflow) (1.14.1)\n",
      "Requirement already satisfied: tensorflow-io-gcs-filesystem>=0.23.1 in /usr/local/lib/python3.10/dist-packages (from tensorflow) (0.36.0)\n",
      "Requirement already satisfied: grpcio<2.0,>=1.24.3 in /usr/local/lib/python3.10/dist-packages (from tensorflow) (1.62.0)\n",
      "Requirement already satisfied: tensorboard<2.16,>=2.15 in /usr/local/lib/python3.10/dist-packages (from tensorflow) (2.15.2)\n",
      "Requirement already satisfied: tensorflow-estimator<2.16,>=2.15.0 in /usr/local/lib/python3.10/dist-packages (from tensorflow) (2.15.0)\n",
      "Requirement already satisfied: keras<2.16,>=2.15.0 in /usr/local/lib/python3.10/dist-packages (from tensorflow) (2.15.0)\n",
      "Requirement already satisfied: wheel<1.0,>=0.23.0 in /usr/local/lib/python3.10/dist-packages (from astunparse>=1.6.0->tensorflow) (0.42.0)\n",
      "Requirement already satisfied: google-auth<3,>=1.6.3 in /usr/local/lib/python3.10/dist-packages (from tensorboard<2.16,>=2.15->tensorflow) (2.27.0)\n",
      "Requirement already satisfied: google-auth-oauthlib<2,>=0.5 in /usr/local/lib/python3.10/dist-packages (from tensorboard<2.16,>=2.15->tensorflow) (1.2.0)\n",
      "Requirement already satisfied: markdown>=2.6.8 in /usr/local/lib/python3.10/dist-packages (from tensorboard<2.16,>=2.15->tensorflow) (3.5.2)\n",
      "Requirement already satisfied: requests<3,>=2.21.0 in /usr/local/lib/python3.10/dist-packages (from tensorboard<2.16,>=2.15->tensorflow) (2.31.0)\n",
      "Requirement already satisfied: tensorboard-data-server<0.8.0,>=0.7.0 in /usr/local/lib/python3.10/dist-packages (from tensorboard<2.16,>=2.15->tensorflow) (0.7.2)\n",
      "Requirement already satisfied: werkzeug>=1.0.1 in /usr/local/lib/python3.10/dist-packages (from tensorboard<2.16,>=2.15->tensorflow) (3.0.1)\n",
      "Requirement already satisfied: cachetools<6.0,>=2.0.0 in /usr/local/lib/python3.10/dist-packages (from google-auth<3,>=1.6.3->tensorboard<2.16,>=2.15->tensorflow) (5.3.3)\n",
      "Requirement already satisfied: pyasn1-modules>=0.2.1 in /usr/local/lib/python3.10/dist-packages (from google-auth<3,>=1.6.3->tensorboard<2.16,>=2.15->tensorflow) (0.3.0)\n",
      "Requirement already satisfied: rsa<5,>=3.1.4 in /usr/local/lib/python3.10/dist-packages (from google-auth<3,>=1.6.3->tensorboard<2.16,>=2.15->tensorflow) (4.9)\n",
      "Requirement already satisfied: requests-oauthlib>=0.7.0 in /usr/local/lib/python3.10/dist-packages (from google-auth-oauthlib<2,>=0.5->tensorboard<2.16,>=2.15->tensorflow) (1.3.1)\n",
      "Requirement already satisfied: charset-normalizer<4,>=2 in /usr/local/lib/python3.10/dist-packages (from requests<3,>=2.21.0->tensorboard<2.16,>=2.15->tensorflow) (3.3.2)\n",
      "Requirement already satisfied: idna<4,>=2.5 in /usr/local/lib/python3.10/dist-packages (from requests<3,>=2.21.0->tensorboard<2.16,>=2.15->tensorflow) (3.6)\n",
      "Requirement already satisfied: urllib3<3,>=1.21.1 in /usr/local/lib/python3.10/dist-packages (from requests<3,>=2.21.0->tensorboard<2.16,>=2.15->tensorflow) (2.0.7)\n",
      "Requirement already satisfied: certifi>=2017.4.17 in /usr/local/lib/python3.10/dist-packages (from requests<3,>=2.21.0->tensorboard<2.16,>=2.15->tensorflow) (2024.2.2)\n",
      "Requirement already satisfied: MarkupSafe>=2.1.1 in /usr/local/lib/python3.10/dist-packages (from werkzeug>=1.0.1->tensorboard<2.16,>=2.15->tensorflow) (2.1.5)\n",
      "Requirement already satisfied: pyasn1<0.6.0,>=0.4.6 in /usr/local/lib/python3.10/dist-packages (from pyasn1-modules>=0.2.1->google-auth<3,>=1.6.3->tensorboard<2.16,>=2.15->tensorflow) (0.5.1)\n",
      "Requirement already satisfied: oauthlib>=3.0.0 in /usr/local/lib/python3.10/dist-packages (from requests-oauthlib>=0.7.0->google-auth-oauthlib<2,>=0.5->tensorboard<2.16,>=2.15->tensorflow) (3.2.2)\n"
     ]
    }
   ],
   "source": [
    "!pip install tensorflow"
   ]
  },
  {
   "cell_type": "code",
   "execution_count": null,
   "metadata": {
    "id": "08hbnhV9a48g"
   },
   "outputs": [],
   "source": [
    "import os\n",
    "import json\n",
    "import numpy as np\n",
    "import tensorflow as tf\n",
    "from tensorflow.keras.models import Sequential\n",
    "from tensorflow.keras.layers import Dense, Embedding, Flatten\n",
    "from tensorflow.keras.preprocessing.text import Tokenizer\n",
    "from tensorflow.keras.preprocessing.sequence import pad_sequences\n",
    "from sklearn.preprocessing import LabelEncoder"
   ]
  },
  {
   "cell_type": "code",
   "execution_count": null,
   "metadata": {
    "id": "sDXGDUr49V3d"
   },
   "outputs": [],
   "source": [
    "json_path = os.path.join(\"/content\", \"data.json\")"
   ]
  },
  {
   "cell_type": "code",
   "execution_count": null,
   "metadata": {
    "id": "oKAjlHdc9cLT"
   },
   "outputs": [],
   "source": [
    "with open(json_path, 'r') as file:\n",
    "    data = json.load(file)"
   ]
  },
  {
   "cell_type": "code",
   "execution_count": null,
   "metadata": {
    "id": "GSRT9NpQ9g7q"
   },
   "outputs": [],
   "source": [
    "patterns = []\n",
    "tags = []\n",
    "\n",
    "for intent in data[\"intens\"]:\n",
    "    for pattern in intent[\"patterns\"]:\n",
    "        patterns.append(pattern)\n",
    "        tags.append(intent[\"tags\"])"
   ]
  },
  {
   "cell_type": "code",
   "execution_count": null,
   "metadata": {
    "id": "8shkXm5d9km-"
   },
   "outputs": [],
   "source": [
    "tokenizer = Tokenizer()\n",
    "tokenizer.fit_on_texts(patterns)\n",
    "vocab_size = len(tokenizer.word_index) + 1"
   ]
  },
  {
   "cell_type": "code",
   "execution_count": null,
   "metadata": {
    "id": "rKoAid1h9td0"
   },
   "outputs": [],
   "source": [
    "X = tokenizer.texts_to_sequences(patterns)"
   ]
  },
  {
   "cell_type": "code",
   "execution_count": null,
   "metadata": {
    "id": "4I5KBmqs9xEM"
   },
   "outputs": [],
   "source": [
    "X_padded = pad_sequences(X)"
   ]
  },
  {
   "cell_type": "code",
   "execution_count": null,
   "metadata": {
    "id": "nMIfZr8d95wB"
   },
   "outputs": [],
   "source": [
    "label_encoder = LabelEncoder()\n",
    "y_encoded = label_encoder.fit_transform(tags)"
   ]
  },
  {
   "cell_type": "code",
   "execution_count": null,
   "metadata": {
    "id": "E4mKo7CB99Eu"
   },
   "outputs": [],
   "source": [
    "model = Sequential()\n",
    "model.add(Embedding(input_dim=vocab_size, output_dim=50, input_length=X_padded.shape[1]))\n",
    "model.add(Flatten())\n",
    "model.add(Dense(16, activation='relu'))\n",
    "model.add(Dense(len(set(y_encoded)), activation='softmax'))"
   ]
  },
  {
   "cell_type": "code",
   "execution_count": null,
   "metadata": {
    "id": "Z1miKTY0-CRX"
   },
   "outputs": [],
   "source": [
    "model.compile(optimizer='adam', loss='sparse_categorical_crossentropy', metrics=['accuracy'])"
   ]
  },
  {
   "cell_type": "code",
   "execution_count": null,
   "metadata": {
    "colab": {
     "base_uri": "https://localhost:8080/"
    },
    "id": "oCclnfaF-Nty",
    "outputId": "0186bd66-3590-492e-efb6-fdefd1966fe7"
   },
   "outputs": [
    {
     "name": "stdout",
     "output_type": "stream",
     "text": [
      "Epoch 1/25\n",
      "46/46 - 1s - loss: 2.7758 - accuracy: 0.0435 - 808ms/epoch - 18ms/step\n",
      "Epoch 2/25\n",
      "46/46 - 0s - loss: 2.7304 - accuracy: 0.2609 - 63ms/epoch - 1ms/step\n",
      "Epoch 3/25\n",
      "46/46 - 0s - loss: 2.6796 - accuracy: 0.2391 - 65ms/epoch - 1ms/step\n",
      "Epoch 4/25\n",
      "46/46 - 0s - loss: 2.6017 - accuracy: 0.3478 - 65ms/epoch - 1ms/step\n",
      "Epoch 5/25\n",
      "46/46 - 0s - loss: 2.4964 - accuracy: 0.4783 - 78ms/epoch - 2ms/step\n",
      "Epoch 6/25\n",
      "46/46 - 0s - loss: 2.3482 - accuracy: 0.4565 - 68ms/epoch - 1ms/step\n",
      "Epoch 7/25\n",
      "46/46 - 0s - loss: 2.1745 - accuracy: 0.4783 - 68ms/epoch - 1ms/step\n",
      "Epoch 8/25\n",
      "46/46 - 0s - loss: 1.9523 - accuracy: 0.5652 - 70ms/epoch - 2ms/step\n",
      "Epoch 9/25\n",
      "46/46 - 0s - loss: 1.7189 - accuracy: 0.5870 - 67ms/epoch - 1ms/step\n",
      "Epoch 10/25\n",
      "46/46 - 0s - loss: 1.4832 - accuracy: 0.7826 - 65ms/epoch - 1ms/step\n",
      "Epoch 11/25\n",
      "46/46 - 0s - loss: 1.2579 - accuracy: 0.7826 - 64ms/epoch - 1ms/step\n",
      "Epoch 12/25\n",
      "46/46 - 0s - loss: 1.0471 - accuracy: 0.8261 - 69ms/epoch - 2ms/step\n",
      "Epoch 13/25\n",
      "46/46 - 0s - loss: 0.8692 - accuracy: 0.8478 - 67ms/epoch - 1ms/step\n",
      "Epoch 14/25\n",
      "46/46 - 0s - loss: 0.7179 - accuracy: 0.8913 - 65ms/epoch - 1ms/step\n",
      "Epoch 15/25\n",
      "46/46 - 0s - loss: 0.5973 - accuracy: 0.9348 - 71ms/epoch - 2ms/step\n",
      "Epoch 16/25\n",
      "46/46 - 0s - loss: 0.4912 - accuracy: 0.9565 - 65ms/epoch - 1ms/step\n",
      "Epoch 17/25\n",
      "46/46 - 0s - loss: 0.4067 - accuracy: 0.9783 - 66ms/epoch - 1ms/step\n",
      "Epoch 18/25\n",
      "46/46 - 0s - loss: 0.3459 - accuracy: 0.9783 - 68ms/epoch - 1ms/step\n",
      "Epoch 19/25\n",
      "46/46 - 0s - loss: 0.2892 - accuracy: 0.9783 - 72ms/epoch - 2ms/step\n",
      "Epoch 20/25\n",
      "46/46 - 0s - loss: 0.2435 - accuracy: 0.9783 - 65ms/epoch - 1ms/step\n",
      "Epoch 21/25\n",
      "46/46 - 0s - loss: 0.2036 - accuracy: 0.9783 - 72ms/epoch - 2ms/step\n",
      "Epoch 22/25\n",
      "46/46 - 0s - loss: 0.1752 - accuracy: 0.9783 - 72ms/epoch - 2ms/step\n",
      "Epoch 23/25\n",
      "46/46 - 0s - loss: 0.1509 - accuracy: 0.9783 - 70ms/epoch - 2ms/step\n",
      "Epoch 24/25\n",
      "46/46 - 0s - loss: 0.1266 - accuracy: 1.0000 - 77ms/epoch - 2ms/step\n",
      "Epoch 25/25\n",
      "46/46 - 0s - loss: 0.1082 - accuracy: 1.0000 - 70ms/epoch - 2ms/step\n"
     ]
    },
    {
     "data": {
      "text/plain": [
       "<keras.src.callbacks.History at 0x7b28ec2b5a80>"
      ]
     },
     "execution_count": 15,
     "metadata": {},
     "output_type": "execute_result"
    }
   ],
   "source": [
    "model.fit(X_padded, y_encoded, epochs=25, batch_size=1, verbose=2)"
   ]
  },
  {
   "cell_type": "code",
   "execution_count": null,
   "metadata": {
    "id": "W8Gc_tuZ-Q4o"
   },
   "outputs": [],
   "source": [
    "def get_response(user_input):\n",
    "    user_input_sequence = tokenizer.texts_to_sequences([user_input])\n",
    "    user_input_padded = pad_sequences(user_input_sequence, maxlen=X_padded.shape[1])\n",
    "    predicted_probabilities = model.predict(user_input_padded)\n",
    "    predicted_class = np.argmax(predicted_probabilities, axis=-1)\n",
    "    predicted_tag = label_encoder.inverse_transform(predicted_class)\n",
    "\n",
    "    for intent in data[\"intens\"]:\n",
    "        if intent[\"tags\"] == predicted_tag:\n",
    "            return intent[\"responses\"]"
   ]
  },
  {
   "cell_type": "code",
   "execution_count": null,
   "metadata": {
    "colab": {
     "base_uri": "https://localhost:8080/"
    },
    "id": "Wg-WySqrLAvn",
    "outputId": "47006ed6-a323-4d98-cb88-011335b9f9b0"
   },
   "outputs": [
    {
     "name": "stdout",
     "output_type": "stream",
     "text": [
      "1/1 [==============================] - 0s 146ms/step\n",
      "Durasi proses pembuatan E-KTP tergantung pada lokasi dan tingkat kepadatan penduduk, Bagi warga negara yang sudah memenuhi syarat, maka pembuatan KTP dilakukan selambat-lambatnya 14 hari\n"
     ]
    }
   ],
   "source": [
    "user_input = \"berapa lama pembuatan ktp\"\n",
    "response = get_response(user_input)\n",
    "print(response)"
   ]
  }
 ],
 "metadata": {
  "colab": {
   "provenance": []
  },
  "kernelspec": {
   "display_name": "Python 3",
   "name": "python3"
  },
  "language_info": {
   "name": "python"
  }
 },
 "nbformat": 4,
 "nbformat_minor": 0
}
